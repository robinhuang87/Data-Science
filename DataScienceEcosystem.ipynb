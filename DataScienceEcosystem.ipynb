{
 "cells": [
  {
   "cell_type": "markdown",
   "id": "33bedfd2-a512-4e19-9abe-f5c0060f5641",
   "metadata": {},
   "source": [
    "# Data Science Tools and Ecosystem"
   ]
  },
  {
   "cell_type": "markdown",
   "id": "fc2a3c63-45af-4336-8924-05ff0082a1fb",
   "metadata": {},
   "source": [
    "In This notebook, Data Science Tools and Ecosystem are summarized."
   ]
  },
  {
   "attachments": {},
   "cell_type": "markdown",
   "id": "7dc55bff-0898-4ed4-8a71-d32712d56d98",
   "metadata": {},
   "source": [
    "Some of the popular languages that Data Scientists use are:\n",
    "1. **Python** : Python is widely used in the data science community due to its simplicity, versatility, and extensive libraries such as Pandas, NumPy, and Scikit-learn.\n",
    "2. **R** :  R is another popular language for data science, especially for statistical analysis and data visualization. It has a wide range of packages and libraries specifically designed for data analysis.\n",
    "3. **SQL** : SQL (Structured Query Language) is essential for working with databases and querying data. It is commonly used for data extraction, transformation, and loading (ETL) processes.\n",
    "4. **Scala** :  Scala is a general-purpose programming language that is gaining popularity in the data science field, especially for big data processing. \n",
    "5. **Java** : Java is a widely-used programming language in the enterprise space and has several data science tools and libraries, such as Weka, Apache MLlib, and Deeplearning4j\n",
    "6. **C++** :  C++ is a powerful programming language that is used for performance-critical tasks in data science, such as building machine learning models and working with large datasets.\n",
    "7. **Julia** : Julia is a relatively new language that combines the ease of use of Python with the performance of C++."
   ]
  },
  {
   "attachments": {},
   "cell_type": "markdown",
   "id": "08a005b3-5045-481b-bc03-b8da80f551ef",
   "metadata": {},
   "source": [
    "Some of the commonly used libraries used by data scientist include:\n",
    "1. **Scientific Libraries:**\n",
    "    + **Pandas** : Provides data structure and tools for data cleaning, manipulation, and analysis.\n",
    "    + **Numpy** : Based on arrays and matrices, it allows you to apply mathematical functions to the arrays.\n",
    "2. **Visualization Libraries:**\n",
    "    + **Matplotlib** : The most well-known library for data visualization. It enables the creation of\n",
    "                  customizable graphs, charts, and maps.\n",
    "    + **Seaborn** : High-level visualization library based on Matplotlib. It generates heat map, time series,\n",
    "              and violin plots.\n",
    "3. **Machine Learning and Deep Learning Libraries**\n",
    "    + **Scikit-learn** : Contains tools for statistical modeling, including regression, classification, clustering, and more.\n",
    "    + **Keras**  : Allows you to build standard deep learning models. It provides a high-level interface for quick and simple model building.\n",
    "    + **Tensorflow** :  A low-level framework used in large-scale production of deep learning models. It is designed for production and deployment.  "
   ]
  },
  {
   "attachments": {},
   "cell_type": "markdown",
   "id": "f7451ee9-fb78-4d9a-9095-4db60323e4df",
   "metadata": {},
   "source": [
    "|Data Science Tools|\n",
    "|------------------|\n",
    "|**Jupyter Notebook** : Jupyter Notebooks is a web-based interactive computing environment that allows you to create and share documents containing live code, equations, visualizations, and narrative text.\n",
    "|**Apache Zeppelin** : Apache Zeppelin is a web-based notebook that supports interactive data analytics and visualization. It provides built-in support for multiple programming languages, including Python, R, Scala, and SQL. Zeppelin also has integrated plotting capabilities.|\n",
    "|**Spyder** : Spyder is an open-source IDE for scientific computing in Python. It provides a MATLAB-like interface with a code editor, variable explorer, and integrated plotting. Spyder is particularly popular among data scientists who prefer a more traditional IDE experience.|\n"
   ]
  },
  {
   "cell_type": "markdown",
   "id": "05d0705d-76dd-4110-8c4f-333fde8c670e",
   "metadata": {},
   "source": [
    "### Below are a few examples of evaluating arithmetic expressions in Python"
   ]
  },
  {
   "cell_type": "code",
   "execution_count": 4,
   "id": "10324032-1947-4ca7-ba71-fac43b30a7fd",
   "metadata": {},
   "outputs": [
    {
     "data": {
      "text/plain": [
       "17"
      ]
     },
     "execution_count": 4,
     "metadata": {},
     "output_type": "execute_result"
    }
   ],
   "source": [
    "#this is simple arithmetic expression to multiple and then add integers.\n",
    "(3*4) + 5"
   ]
  },
  {
   "cell_type": "code",
   "execution_count": 7,
   "id": "b29b5bc6-929d-4c33-bcf9-37924ea36796",
   "metadata": {},
   "outputs": [
    {
     "name": "stdout",
     "output_type": "stream",
     "text": [
      "3 Hours and 20 Minutes\n"
     ]
    }
   ],
   "source": [
    "#this will convert 200 minutes to Hour by dividing by 60 and take the remainder\n",
    "HoursInput = 200\n",
    "Htime = HoursInput//60\n",
    "Mtime = HoursInput%60\n",
    "print(f\"{Htime} Hours and {Mtime} Minutes\")"
   ]
  },
  {
   "cell_type": "markdown",
   "id": "d17a9554-a829-41cc-a906-8562d3765da0",
   "metadata": {},
   "source": [
    "**Objectives**:\n",
    "* List Popular Languages used in Data Science\n",
    "* List Commonly used Libraries used in Data Science\n",
    "* List Data Science Tools\n",
    "* Show Examples of simple arithmetic expressions in Python"
   ]
  },
  {
   "cell_type": "markdown",
   "id": "0d7e4438-1e71-4d3f-9fdf-8001d08a32d2",
   "metadata": {},
   "source": [
    "## Author : Robin"
   ]
  }
 ],
 "metadata": {
  "kernelspec": {
   "display_name": "anaconda-panel-2023.05-py310",
   "language": "python",
   "name": "conda-env-anaconda-panel-2023.05-py310-py"
  },
  "language_info": {
   "codemirror_mode": {
    "name": "ipython",
    "version": 3
   },
   "file_extension": ".py",
   "mimetype": "text/x-python",
   "name": "python",
   "nbconvert_exporter": "python",
   "pygments_lexer": "ipython3",
   "version": "3.11.5"
  }
 },
 "nbformat": 4,
 "nbformat_minor": 5
}
